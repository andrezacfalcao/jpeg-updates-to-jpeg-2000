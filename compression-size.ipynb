{
 "cells": [
  {
   "cell_type": "code",
   "execution_count": 1,
   "metadata": {},
   "outputs": [],
   "source": [
    "import os\n",
    "from PIL import Image\n",
    "\n",
    "def resize_and_compress_images_in_folder(source_folder, target_folders, image_ids):\n",
    "    for resolution, folders in target_folders.items():\n",
    "        for quality, folder in folders.items():\n",
    "            os.makedirs(folder, exist_ok=True)\n",
    "\n",
    "    for file_name in os.listdir(source_folder):\n",
    "        image_id = file_name.split('.')[0]\n",
    "        if image_id in image_ids and file_name.lower().endswith('.jpeg'):\n",
    "            full_file_path = os.path.join(source_folder, file_name)\n",
    "            with Image.open(full_file_path) as img:\n",
    "                for resolution, size in [('40', 40), ('120', 120)]:\n",
    "                    img_resized = img.resize((size, size), Image.LANCZOS)\n",
    "                    \n",
    "                    for quality, folder in target_folders[resolution].items():\n",
    "                        output_path = os.path.join(folder, image_id + f'_{quality}_{resolution}.jp2')\n",
    "                        if quality == 'max':\n",
    "                            img_resized.save(output_path, 'JPEG2000', quality_mode='dB', quality_layers=[80])\n",
    "                        else:\n",
    "                            img_resized.save(output_path, 'JPEG2000', quality_mode='dB', quality_layers=[20])\n",
    "\n",
    "source_folder = 'C:/Users/andre/IC_AUTOMATOS_COCO/coco_imagens_jpeg'\n",
    "target_folders = {\n",
    "    '40': {\n",
    "        'min': 'C:/Users/andre/IC_AUTOMATOS_COCO/coco_imagens_40x40_min',\n",
    "        'max': 'C:/Users/andre/IC_AUTOMATOS_COCO/coco_imagens_40x40_max'\n",
    "    },\n",
    "    '120': {\n",
    "        'min': 'C:/Users/andre/IC_AUTOMATOS_COCO/coco_imagens_120x120_min',\n",
    "        'max': 'C:/Users/andre/IC_AUTOMATOS_COCO/coco_imagens_120x120_max'\n",
    "    }\n",
    "}\n",
    "\n",
    "image_ids = [\n",
    "    \"000000000108\", \"000000000128\", \"000000000180\", \"000000000183\", \"000000000229\",\n",
    "    \"000000000552\", \"000000001702\", \"000000002051\", \"000000003188\", \"000000003853\",\n",
    "    \"000000003907\", \"000000004158\", \"000000004165\", \"000000004311\", \"000000004505\",\n",
    "    \"000000004623\", \"000000005082\", \"000000005127\", \"000000005239\", \"000000006435\",\n",
    "    \"000000006570\", \"000000006865\", \"000000007399\", \"000000007959\", \"000000008441\",\n",
    "    \"000000009242\", \"000000011189\", \"000000012214\", \"000000012272\", \"000000014696\"\n",
    "]\n",
    "\n",
    "resize_and_compress_images_in_folder(source_folder, target_folders, image_ids)\n"
   ]
  }
 ],
 "metadata": {
  "kernelspec": {
   "display_name": "base",
   "language": "python",
   "name": "python3"
  },
  "language_info": {
   "codemirror_mode": {
    "name": "ipython",
    "version": 3
   },
   "file_extension": ".py",
   "mimetype": "text/x-python",
   "name": "python",
   "nbconvert_exporter": "python",
   "pygments_lexer": "ipython3",
   "version": "3.11.5"
  }
 },
 "nbformat": 4,
 "nbformat_minor": 2
}
